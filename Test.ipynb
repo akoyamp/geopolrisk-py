{
 "cells": [
  {
   "cell_type": "markdown",
   "metadata": {},
   "source": [
    "# Import main calculation function\n"
   ]
  },
  {
   "cell_type": "code",
   "execution_count": 1,
   "metadata": {},
   "outputs": [
    {
     "name": "stderr",
     "output_type": "stream",
     "text": [
      "Reading table/s ['Aluminium', 'Antimony', 'Arsenic', 'Asbestos', 'Baryte', 'Bauxite', 'Bentonite', 'Beryllium (conc.)', 'Bismuth', 'Boron Minerals', 'Cadmium', 'Chromium (Cr2O3)', 'Cobalt', 'Coking Coal', 'Copper', 'Diamonds (Gem)', 'Diamonds (Ind)', 'Diatomite', 'Feldspar', 'Fluorspar', 'Gallium', 'Germanium', 'Gold', 'Graphite', 'Gypsum and Anhydrite', 'Indium', 'Iron (Fe)', 'Kaolin (China-Clay)', 'Lead', 'Lignite', 'Lithium (Li2O)', 'logging', 'Magnesite', 'Manganese', 'Mercury', 'Molybdenum', 'Natural Gas', 'Nickel', 'Niobium (Nb2O5)', 'Oil Sands (part of Petroleum)', 'Oil Shales', 'Palladium', 'Perlite', 'Petroleum', 'Phosphate Rock (P2O5)', 'Platinum', 'Potash (K2O)', 'Rare Earths (REO)', 'Rhenium', 'Rhodium', 'Salt (rock, brines, marine)', 'Selenium', 'Silver', 'Steam Coal ', 'Sulfur (elementar & industrial)', 'Talc, Steatite & Pyrophyllite', 'Tantalum (Ta2O5)', 'Tellurium', 'Tin', 'Titanium (TiO2)', 'Tungsten (W)', 'Uranium (U3O8)', 'Vanadium (V)', 'Vermiculite', 'Zinc', 'Zircon', 'Country_ISO', 'HS Code Map'] from the library database C:\\Users\\akoyamparamb\\Documents/geopolrisk/databases/world_mining_data.db.: 100%|██████████| 68/68 [00:00<00:00, 1327.83it/s]\n",
      "Reading table/s ['Normalized'] from the library database C:\\Users\\akoyamparamb\\Documents/geopolrisk/databases/wgi.db.: 100%|██████████| 1/1 [00:00<00:00, 307.86it/s]\n",
      "Reading table/s ['baci_trade'] from the library database C:\\Users\\akoyamparamb\\Documents/geopolrisk/databases/baci.db.: 100%|██████████| 1/1 [00:19<00:00, 19.24s/it]\n"
     ]
    }
   ],
   "source": [
    "from geopolrisk.assessment.main import gprs_calc"
   ]
  },
  {
   "cell_type": "markdown",
   "metadata": {},
   "source": [
    "## Prepare the lists\n"
   ]
  },
  {
   "cell_type": "code",
   "execution_count": 2,
   "metadata": {},
   "outputs": [],
   "source": [
    "ListofMetals = [\n",
    "    250410,\n",
    "    251110,\n",
    "    251910,\n",
    "    252010,\n",
    "    252400,\n",
    "    252910,\n",
    "    252922,\n",
    "    260111,\n",
    "    260200,\n",
    "    260300,\n",
    "    260400,\n",
    "    260600,\n",
    "    260700,\n",
    "    260800,\n",
    "    260900,\n",
    "    261000,\n",
    "    261100,\n",
    "    261210,\n",
    "    261310,\n",
    "    261400,\n",
    "    261510,\n",
    "    261590,\n",
    "    261610,\n",
    "    261710,\n",
    "    270111,\n",
    "    270112,\n",
    "    270900,\n",
    "    271111,\n",
    "    280450,\n",
    "    280480,\n",
    "    280490,\n",
    "    280540,\n",
    "    282200,\n",
    "    282560,\n",
    "    283691,\n",
    "    284690,\n",
    "    710811,\n",
    "    711011,\n",
    "    711021,\n",
    "    711031,\n",
    "    810710,\n",
    "    811291,\n",
    "]\n",
    "\n",
    "\n",
    "ListofCountries = [156, 251, 842, \"EU\"]\n",
    "\n",
    "ListofYear = [2022]"
   ]
  },
  {
   "cell_type": "code",
   "execution_count": 6,
   "metadata": {},
   "outputs": [
    {
     "name": "stderr",
     "output_type": "stream",
     "text": [
      "Calculating the GeoPolRisk: 100%|██████████| 168/168 [01:07<00:00,  2.48it/s]\n"
     ]
    }
   ],
   "source": [
    "gprs_calc(ListofYear, ListofCountries, ListofMetals)"
   ]
  },
  {
   "cell_type": "markdown",
   "metadata": {},
   "source": [
    "# Testing individual functions for the same list\n"
   ]
  },
  {
   "cell_type": "code",
   "execution_count": null,
   "metadata": {},
   "outputs": [],
   "source": [
    "FirstMetal = ListofMetals[0]\n",
    "FirstCountry = ListofCountries[0]\n",
    "FirstYear = ListofYear[0]"
   ]
  },
  {
   "cell_type": "code",
   "execution_count": null,
   "metadata": {},
   "outputs": [],
   "source": [
    "from geopolrisk.assessment.core import HHI\n",
    "\n",
    "ProductionQuantity, hhi = HHI(FirstMetal, FirstYear, FirstCountry)"
   ]
  },
  {
   "cell_type": "code",
   "execution_count": null,
   "metadata": {},
   "outputs": [],
   "source": [
    "from geopolrisk.assessment.core import importrisk\n",
    "\n",
    "Numerator, TotalTrade, Price = importrisk(\n",
    "    FirstMetal, FirstYear, [FirstCountry]\n",
    ")  # Country has to be in a list"
   ]
  },
  {
   "cell_type": "code",
   "execution_count": null,
   "metadata": {},
   "outputs": [],
   "source": [
    "from geopolrisk.assessment.core import GeoPolRisk\n",
    "\n",
    "\n",
    "Values = GeoPolRisk(Numerator, TotalTrade, Price, ProductionQuantity, hhi)"
   ]
  },
  {
   "cell_type": "markdown",
   "metadata": {},
   "source": [
    "# Testing company level functions using same data as above\n"
   ]
  },
  {
   "cell_type": "code",
   "execution_count": null,
   "metadata": {},
   "outputs": [],
   "source": [
    "from geopolrisk.assessment.core import importrisk_company\n",
    "\n",
    "Numerator_C, TotalTrade_C, Price_C = importrisk_company(FirstMetal, FirstYear)\n",
    "Values_c = GeoPolRisk(\n",
    "    Numerator_C, TotalTrade_C, Price_C, ProductionQuantity * 1000, hhi\n",
    ")"
   ]
  },
  {
   "cell_type": "markdown",
   "metadata": {},
   "source": [
    "# Testing Regional Data\n"
   ]
  },
  {
   "cell_type": "code",
   "execution_count": 3,
   "metadata": {},
   "outputs": [],
   "source": [
    "NewRegions = {\n",
    "    \"EFTA\": [\"Iceland\", \"Norway\", \"Switzerland\"],\n",
    "    \"NAFTA\": [\"Canada\", \"Mexico\", \"USA\"],\n",
    "}  # Liechtenstein has a customs union with Switzerland whose trade is not reported by UN Comtrade"
   ]
  },
  {
   "cell_type": "code",
   "execution_count": 4,
   "metadata": {},
   "outputs": [],
   "source": [
    "from geopolrisk.assessment.utils import regions\n",
    "\n",
    "regions(NewRegions)"
   ]
  },
  {
   "cell_type": "code",
   "execution_count": 5,
   "metadata": {
    "scrolled": true
   },
   "outputs": [
    {
     "data": {
      "text/plain": [
       "{'EU': ['Austria',\n",
       "  'Belgium',\n",
       "  'Bulgaria',\n",
       "  'Croatia',\n",
       "  'Cyprus',\n",
       "  'Czechia',\n",
       "  'Denmark',\n",
       "  'Estonia',\n",
       "  'Finland',\n",
       "  'France',\n",
       "  'Germany',\n",
       "  'Greece',\n",
       "  'Hungary',\n",
       "  'Ireland',\n",
       "  'Italy',\n",
       "  'Latvia',\n",
       "  'Lithuania',\n",
       "  'Luxembourg',\n",
       "  'Malta',\n",
       "  'Netherlands',\n",
       "  'Poland',\n",
       "  'Portugal',\n",
       "  'Romania',\n",
       "  'Slovakia',\n",
       "  'Slovenia',\n",
       "  'Spain',\n",
       "  'Sweden'],\n",
       " 'EFTA': ['Iceland', 'Norway', 'Switzerland'],\n",
       " 'NAFTA': ['Canada', 'Mexico', 'USA'],\n",
       " 'Afghanistan': ['Afghanistan'],\n",
       " 'Albania': ['Albania'],\n",
       " 'Algeria': ['Algeria'],\n",
       " 'Andorra': ['Andorra'],\n",
       " 'Angola': ['Angola'],\n",
       " 'Anguilla': ['Anguilla'],\n",
       " 'Antigua and Barbuda': ['Antigua and Barbuda'],\n",
       " 'Argentina': ['Argentina'],\n",
       " 'Armenia': ['Armenia'],\n",
       " 'Aruba': ['Aruba'],\n",
       " 'Australia': ['Australia'],\n",
       " 'Austria': ['Austria'],\n",
       " 'Azerbaijan': ['Azerbaijan'],\n",
       " 'Bahamas': ['Bahamas'],\n",
       " 'Bahrain': ['Bahrain'],\n",
       " 'Bangladesh': ['Bangladesh'],\n",
       " 'Barbados': ['Barbados'],\n",
       " 'Belarus': ['Belarus'],\n",
       " 'Belgium': ['Belgium'],\n",
       " 'Belgium-Luxembourg': ['Belgium-Luxembourg'],\n",
       " 'Belize': ['Belize'],\n",
       " 'Benin': ['Benin'],\n",
       " 'Bermuda': ['Bermuda'],\n",
       " 'Bhutan': ['Bhutan'],\n",
       " 'Bolivia (Plurinational State of)': ['Bolivia (Plurinational State of)'],\n",
       " 'Bonaire': ['Bonaire'],\n",
       " 'Bosnia Herzegovina': ['Bosnia Herzegovina'],\n",
       " 'Botswana': ['Botswana'],\n",
       " 'Br. Virgin Isds': ['Br. Virgin Isds'],\n",
       " 'Brazil': ['Brazil'],\n",
       " 'Brunei Darussalam': ['Brunei Darussalam'],\n",
       " 'Bulgaria': ['Bulgaria'],\n",
       " 'Burkina Faso': ['Burkina Faso'],\n",
       " 'Burundi': ['Burundi'],\n",
       " 'Cabo Verde': ['Cabo Verde'],\n",
       " 'Cambodia': ['Cambodia'],\n",
       " 'Cameroon': ['Cameroon'],\n",
       " 'Canada': ['Canada'],\n",
       " 'Cayman Isds': ['Cayman Isds'],\n",
       " 'Central African Rep.': ['Central African Rep.'],\n",
       " 'Chad': ['Chad'],\n",
       " 'Chile': ['Chile'],\n",
       " 'China': ['China'],\n",
       " 'China, Hong Kong SAR': ['China, Hong Kong SAR'],\n",
       " 'China, Macao SAR': ['China, Macao SAR'],\n",
       " 'Colombia': ['Colombia'],\n",
       " 'Comoros': ['Comoros'],\n",
       " 'Congo': ['Congo'],\n",
       " 'Cook Isds': ['Cook Isds'],\n",
       " 'Costa Rica': ['Costa Rica'],\n",
       " \"Côte d'Ivoire\": [\"Côte d'Ivoire\"],\n",
       " 'Croatia': ['Croatia'],\n",
       " 'Cuba': ['Cuba'],\n",
       " 'Curaçao': ['Curaçao'],\n",
       " 'Cyprus': ['Cyprus'],\n",
       " 'Czechia': ['Czechia'],\n",
       " 'Czechoslovakia': ['Czechoslovakia'],\n",
       " \"Dem. People's Rep. of Korea\": [\"Dem. People's Rep. of Korea\"],\n",
       " 'Dem. Rep. of the Congo': ['Dem. Rep. of the Congo'],\n",
       " 'Denmark': ['Denmark'],\n",
       " 'Djibouti': ['Djibouti'],\n",
       " 'Dominica': ['Dominica'],\n",
       " 'Dominican Rep.': ['Dominican Rep.'],\n",
       " 'East and West Pakistan': ['East and West Pakistan'],\n",
       " 'Ecuador': ['Ecuador'],\n",
       " 'Egypt': ['Egypt'],\n",
       " 'El Salvador': ['El Salvador'],\n",
       " 'Equatorial Guinea': ['Equatorial Guinea'],\n",
       " 'Eritrea': ['Eritrea'],\n",
       " 'Estonia': ['Estonia'],\n",
       " 'Ethiopia': ['Ethiopia'],\n",
       " 'European Union': ['European Union'],\n",
       " 'Faeroe Isds': ['Faeroe Isds'],\n",
       " 'Falkland Isds (Malvinas)': ['Falkland Isds (Malvinas)'],\n",
       " 'Fiji': ['Fiji'],\n",
       " 'Finland': ['Finland'],\n",
       " 'Fmr Arab Rep. of Yemen': ['Fmr Arab Rep. of Yemen'],\n",
       " 'Fmr Dem. Rep. of Germany': ['Fmr Dem. Rep. of Germany'],\n",
       " 'Fmr Dem. Rep. of Vietnam': ['Fmr Dem. Rep. of Vietnam'],\n",
       " 'Fmr Dem. Yemen': ['Fmr Dem. Yemen'],\n",
       " 'Fmr Ethiopia': ['Fmr Ethiopia'],\n",
       " 'Fmr Fed. Rep. of Germany': ['Fmr Fed. Rep. of Germany'],\n",
       " 'Fmr Pacific Isds': ['Fmr Pacific Isds'],\n",
       " 'Fmr Panama, excl.Canal Zone': ['Fmr Panama, excl.Canal Zone'],\n",
       " 'Fmr Panama-Canal-Zone': ['Fmr Panama-Canal-Zone'],\n",
       " 'Fmr Rep. of Vietnam': ['Fmr Rep. of Vietnam'],\n",
       " 'Fmr Rhodesia Nyas': ['Fmr Rhodesia Nyas'],\n",
       " 'Fmr Sudan': ['Fmr Sudan'],\n",
       " 'Fmr Tanganyika': ['Fmr Tanganyika'],\n",
       " 'Fmr USSR': ['Fmr USSR'],\n",
       " 'Fmr Yugoslavia': ['Fmr Yugoslavia'],\n",
       " 'Fmr Zanzibar and Pemba Isd': ['Fmr Zanzibar and Pemba Isd'],\n",
       " 'France': ['France'],\n",
       " 'French Guiana': ['French Guiana'],\n",
       " 'French Polynesia': ['French Polynesia'],\n",
       " 'FS Micronesia': ['FS Micronesia'],\n",
       " 'Gabon': ['Gabon'],\n",
       " 'Gambia': ['Gambia'],\n",
       " 'Georgia': ['Georgia'],\n",
       " 'Germany': ['Germany'],\n",
       " 'Ghana': ['Ghana'],\n",
       " 'Gibraltar': ['Gibraltar'],\n",
       " 'Greece': ['Greece'],\n",
       " 'Greenland': ['Greenland'],\n",
       " 'Grenada': ['Grenada'],\n",
       " 'Guadeloupe': ['Guadeloupe'],\n",
       " 'Guatemala': ['Guatemala'],\n",
       " 'Guinea': ['Guinea'],\n",
       " 'Guinea-Bissau': ['Guinea-Bissau'],\n",
       " 'Guyana': ['Guyana'],\n",
       " 'Haiti': ['Haiti'],\n",
       " 'Holy See (Vatican City State)': ['Holy See (Vatican City State)'],\n",
       " 'Honduras': ['Honduras'],\n",
       " 'Hungary': ['Hungary'],\n",
       " 'Iceland': ['Iceland'],\n",
       " 'India': ['India'],\n",
       " 'India, excl. Sikkim': ['India, excl. Sikkim'],\n",
       " 'Indonesia': ['Indonesia'],\n",
       " 'Iran': ['Iran'],\n",
       " 'Iraq': ['Iraq'],\n",
       " 'Ireland': ['Ireland'],\n",
       " 'Israel': ['Israel'],\n",
       " 'Italy': ['Italy'],\n",
       " 'Jamaica': ['Jamaica'],\n",
       " 'Japan': ['Japan'],\n",
       " 'Jordan': ['Jordan'],\n",
       " 'Kazakhstan': ['Kazakhstan'],\n",
       " 'Kenya': ['Kenya'],\n",
       " 'Kiribati': ['Kiribati'],\n",
       " 'Kuwait': ['Kuwait'],\n",
       " 'Kyrgyzstan': ['Kyrgyzstan'],\n",
       " \"Lao People's Dem. Rep.\": [\"Lao People's Dem. Rep.\"],\n",
       " 'Latvia': ['Latvia'],\n",
       " 'Lebanon': ['Lebanon'],\n",
       " 'Lesotho': ['Lesotho'],\n",
       " 'Liberia': ['Liberia'],\n",
       " 'Libya': ['Libya'],\n",
       " 'Lithuania': ['Lithuania'],\n",
       " 'Luxembourg': ['Luxembourg'],\n",
       " 'Madagascar': ['Madagascar'],\n",
       " 'Malawi': ['Malawi'],\n",
       " 'Malaysia': ['Malaysia'],\n",
       " 'Maldives': ['Maldives'],\n",
       " 'Mali': ['Mali'],\n",
       " 'Malta': ['Malta'],\n",
       " 'Marshall Isds': ['Marshall Isds'],\n",
       " 'Martinique': ['Martinique'],\n",
       " 'Mauritania': ['Mauritania'],\n",
       " 'Mauritius': ['Mauritius'],\n",
       " 'Mayotte': ['Mayotte'],\n",
       " 'Mexico': ['Mexico'],\n",
       " 'Mongolia': ['Mongolia'],\n",
       " 'Montenegro': ['Montenegro'],\n",
       " 'Montserrat': ['Montserrat'],\n",
       " 'Morocco': ['Morocco'],\n",
       " 'Mozambique': ['Mozambique'],\n",
       " 'Myanmar': ['Myanmar'],\n",
       " 'N. Mariana Isds': ['N. Mariana Isds'],\n",
       " 'Namibia': ['Namibia'],\n",
       " 'Nepal': ['Nepal'],\n",
       " 'Neth. Antilles': ['Neth. Antilles'],\n",
       " 'Neth. Antilles and Aruba': ['Neth. Antilles and Aruba'],\n",
       " 'Netherlands': ['Netherlands'],\n",
       " 'New Caledonia': ['New Caledonia'],\n",
       " 'New Zealand': ['New Zealand'],\n",
       " 'Nicaragua': ['Nicaragua'],\n",
       " 'Niger': ['Niger'],\n",
       " 'Nigeria': ['Nigeria'],\n",
       " 'Norway': ['Norway'],\n",
       " 'Oman': ['Oman'],\n",
       " 'Other Asia, nes': ['Other Asia, nes'],\n",
       " 'Pakistan': ['Pakistan'],\n",
       " 'Palau': ['Palau'],\n",
       " 'Panama': ['Panama'],\n",
       " 'Papua New Guinea': ['Papua New Guinea'],\n",
       " 'Paraguay': ['Paraguay'],\n",
       " 'Peninsula Malaysia': ['Peninsula Malaysia'],\n",
       " 'Peru': ['Peru'],\n",
       " 'Philippines': ['Philippines'],\n",
       " 'Poland': ['Poland'],\n",
       " 'Portugal': ['Portugal'],\n",
       " 'Qatar': ['Qatar'],\n",
       " 'Rep. of Korea': ['Rep. of Korea'],\n",
       " 'Rep. of Moldova': ['Rep. of Moldova'],\n",
       " 'Réunion': ['Réunion'],\n",
       " 'Romania': ['Romania'],\n",
       " 'Russian Federation': ['Russian Federation'],\n",
       " 'Rwanda': ['Rwanda'],\n",
       " 'Ryukyu Isd': ['Ryukyu Isd'],\n",
       " 'Sabah': ['Sabah'],\n",
       " 'Saint Barthelemy': ['Saint Barthelemy'],\n",
       " 'Saint Helena': ['Saint Helena'],\n",
       " 'Saint Kitts and Nevis': ['Saint Kitts and Nevis'],\n",
       " 'Saint Kitts, Nevis and Anguilla': ['Saint Kitts, Nevis and Anguilla'],\n",
       " 'Saint Lucia': ['Saint Lucia'],\n",
       " 'Saint Maarten': ['Saint Maarten'],\n",
       " 'Saint Pierre and Miquelon': ['Saint Pierre and Miquelon'],\n",
       " 'Saint Vincent and the Grenadines': ['Saint Vincent and the Grenadines'],\n",
       " 'Samoa': ['Samoa'],\n",
       " 'San Marino': ['San Marino'],\n",
       " 'Sao Tome and Principe': ['Sao Tome and Principe'],\n",
       " 'Sarawak': ['Sarawak'],\n",
       " 'Saudi Arabia': ['Saudi Arabia'],\n",
       " 'Senegal': ['Senegal'],\n",
       " 'Serbia': ['Serbia'],\n",
       " 'Serbia and Montenegro': ['Serbia and Montenegro'],\n",
       " 'Seychelles': ['Seychelles'],\n",
       " 'Sierra Leone': ['Sierra Leone'],\n",
       " 'Singapore': ['Singapore'],\n",
       " 'Slovakia': ['Slovakia'],\n",
       " 'Slovenia': ['Slovenia'],\n",
       " 'So. African Customs Union': ['So. African Customs Union'],\n",
       " 'Solomon Isds': ['Solomon Isds'],\n",
       " 'Somalia': ['Somalia'],\n",
       " 'South Africa': ['South Africa'],\n",
       " 'South Sudan': ['South Sudan'],\n",
       " 'Spain': ['Spain'],\n",
       " 'Sri Lanka': ['Sri Lanka'],\n",
       " 'State of Palestine': ['State of Palestine'],\n",
       " 'Sudan': ['Sudan'],\n",
       " 'Suriname': ['Suriname'],\n",
       " 'Eswatini': ['Eswatini'],\n",
       " 'Sweden': ['Sweden'],\n",
       " 'Switzerland': ['Switzerland'],\n",
       " 'Syria': ['Syria'],\n",
       " 'Tajikistan': ['Tajikistan'],\n",
       " 'North Macedonia': ['North Macedonia'],\n",
       " 'Thailand': ['Thailand'],\n",
       " 'Timor-Leste': ['Timor-Leste'],\n",
       " 'Togo': ['Togo'],\n",
       " 'Tokelau': ['Tokelau'],\n",
       " 'Tonga': ['Tonga'],\n",
       " 'Trinidad and Tobago': ['Trinidad and Tobago'],\n",
       " 'Tunisia': ['Tunisia'],\n",
       " 'Turkey': ['Turkey'],\n",
       " 'Turkmenistan': ['Turkmenistan'],\n",
       " 'Turks and Caicos Isds': ['Turks and Caicos Isds'],\n",
       " 'Tuvalu': ['Tuvalu'],\n",
       " 'Uganda': ['Uganda'],\n",
       " 'Ukraine': ['Ukraine'],\n",
       " 'United Arab Emirates': ['United Arab Emirates'],\n",
       " 'United Kingdom': ['United Kingdom'],\n",
       " 'United Rep. of Tanzania': ['United Rep. of Tanzania'],\n",
       " 'Uruguay': ['Uruguay'],\n",
       " 'US Virgin Isds': ['US Virgin Isds'],\n",
       " 'USA': ['USA'],\n",
       " 'USA (before 1981)': ['USA (before 1981)'],\n",
       " 'Uzbekistan': ['Uzbekistan'],\n",
       " 'Vanuatu': ['Vanuatu'],\n",
       " 'Venezuela': ['Venezuela'],\n",
       " 'Viet Nam': ['Viet Nam'],\n",
       " 'Wallis and Futuna Isds': ['Wallis and Futuna Isds'],\n",
       " 'Yemen': ['Yemen'],\n",
       " 'Zambia': ['Zambia'],\n",
       " 'Zimbabwe': ['Zimbabwe'],\n",
       " 'ASEAN': ['ASEAN']}"
      ]
     },
     "execution_count": 5,
     "metadata": {},
     "output_type": "execute_result"
    }
   ],
   "source": [
    "from geopolrisk.assessment.database import databases\n",
    "\n",
    "databases.regionslist"
   ]
  },
  {
   "cell_type": "code",
   "execution_count": 6,
   "metadata": {},
   "outputs": [
    {
     "data": {
      "text/plain": [
       "True"
      ]
     },
     "execution_count": 6,
     "metadata": {},
     "output_type": "execute_result"
    }
   ],
   "source": [
    "databases.regional"
   ]
  },
  {
   "cell_type": "markdown",
   "metadata": {},
   "source": [
    "## Main Function to run for the regional assessment\n"
   ]
  },
  {
   "cell_type": "code",
   "execution_count": null,
   "metadata": {
    "scrolled": false
   },
   "outputs": [],
   "source": [
    "ListofMetals = [\n",
    "    260400,\n",
    "    261000,\n",
    "    260300,\n",
    "    283691,\n",
    "    282200,\n",
    "]\n",
    "ListofCountries = [\n",
    "    36,\n",
    "    124,\n",
    "    251,\n",
    "    276,\n",
    "    392,\n",
    "    826,\n",
    "    842,\n",
    "    \"EU\",\n",
    "    \"EFTA\",\n",
    "    \"NAFTA\",\n",
    "]  # EU is already defined in the library\n",
    "ListofYear = [2018, 2019, 2020]\n",
    "gprs_calc(ListofYear, ListofCountries, ListofMetals)"
   ]
  },
  {
   "cell_type": "code",
   "execution_count": null,
   "metadata": {},
   "outputs": [],
   "source": []
  }
 ],
 "metadata": {
  "kernelspec": {
   "display_name": "base",
   "language": "python",
   "name": "python3"
  },
  "language_info": {
   "codemirror_mode": {
    "name": "ipython",
    "version": 3
   },
   "file_extension": ".py",
   "mimetype": "text/x-python",
   "name": "python",
   "nbconvert_exporter": "python",
   "pygments_lexer": "ipython3",
   "version": "3.11.5"
  }
 },
 "nbformat": 4,
 "nbformat_minor": 2
}
